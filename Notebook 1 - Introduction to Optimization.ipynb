{
 "cells": [
  {
   "cell_type": "markdown",
   "metadata": {},
   "source": [
    "# Introduction to Optimization\n",
    "by **Ma. Cristina Bargo, Ph.D.**"
   ]
  },
  {
   "cell_type": "code",
   "execution_count": 2,
   "metadata": {
    "ExecuteTime": {
     "end_time": "2020-06-28T12:38:02.648923Z",
     "start_time": "2020-06-28T12:38:02.644892Z"
    }
   },
   "outputs": [],
   "source": [
    "import numpy as np\n",
    "import matplotlib.pyplot as plt"
   ]
  },
  {
   "cell_type": "markdown",
   "metadata": {
    "toc": true
   },
   "source": [
    "<h1>Table of Contents<span class=\"tocSkip\"></span></h1>\n",
    "<div class=\"toc\"><ul class=\"toc-item\"><li><span><a href=\"#Introduction\" data-toc-modified-id=\"Introduction-1\"><span class=\"toc-item-num\">1&nbsp;&nbsp;</span>Introduction</a></span></li><li><span><a href=\"#Analytical-Methods\" data-toc-modified-id=\"Analytical-Methods-2\"><span class=\"toc-item-num\">2&nbsp;&nbsp;</span>Analytical Methods</a></span><ul class=\"toc-item\"><li><span><a href=\"#Functions-of-One-Variable\" data-toc-modified-id=\"Functions-of-One-Variable-2.1\"><span class=\"toc-item-num\">2.1&nbsp;&nbsp;</span>Functions of One Variable</a></span></li><li><span><a href=\"#Functions-of-Several-Variables\" data-toc-modified-id=\"Functions-of-Several-Variables-2.2\"><span class=\"toc-item-num\">2.2&nbsp;&nbsp;</span>Functions of Several Variables</a></span></li></ul></li><li><span><a href=\"#Numerical-Methods\" data-toc-modified-id=\"Numerical-Methods-3\"><span class=\"toc-item-num\">3&nbsp;&nbsp;</span>Numerical Methods</a></span></li><li><span><a href=\"#References\" data-toc-modified-id=\"References-4\"><span class=\"toc-item-num\">4&nbsp;&nbsp;</span>References</a></span></li></ul></div>"
   ]
  },
  {
   "cell_type": "markdown",
   "metadata": {},
   "source": [
    "## Introduction\n",
    "\n",
    "Optimization (in the mathematical context) involves finding the minimum or the maximum of a certain function."
   ]
  },
  {
   "cell_type": "markdown",
   "metadata": {},
   "source": [
    "## Analytical Methods"
   ]
  },
  {
   "cell_type": "markdown",
   "metadata": {},
   "source": [
    "### Functions of One Variable\n",
    "\n",
    "Suppose we want to find the minimum or the maximum of the function $f(x)$. Without any restrictions on the value of $x$, this may or may not exist. Certain conditions on the function $f(x)$ must be satisfied for the solution to exist. Refer to any calculus textbook, e.g. Leithold (1995), for a discussion on the existence of minimum or maximum of a function.\n",
    "\n",
    "If function $f(x)$ is continuous on the interval $[a,b]$ (where $a$ and $b$ are real numbers) and differentiable on the interval $(a,b)$, then the function $f(x)$ has both a minimum value and a maximum value on $[a,b]$. Three possibilities can occur:\n",
    "* The minimum or the maximum happens at $x=a$.\n",
    "* The minimum or the maximum happens at $x=b$.\n",
    "* The minimum happens at some value $c$ between $a$ and $b$, where $f^\\prime (c) = 0$."
   ]
  },
  {
   "cell_type": "markdown",
   "metadata": {},
   "source": [
    "**Example 1.** $f(x) = 5 - 2x$, where $x \\in [-2,0]$.\n",
    "\n",
    "Note that $f^\\prime (x) = -2$, which is never equal to $0$ for any $x$. Hence, the minimum and maximum cannot be found in the interval $(-2,0)$. We can check the endpoints though.\n",
    "* $f(-2) = 9$, which means we achieve the maximum value of the function $f$ at $x=-2$.\n",
    "* $f(0) = 5$, which means we achieve the minimum value of the function $f$ at $x=0$.\n",
    "\n",
    "Take note of the plot of the function $f$ in the cell below. This shows that we indeed get the minimum value of $f$ at $x=0$ and the maximum value at $x=-2$."
   ]
  },
  {
   "cell_type": "code",
   "execution_count": 8,
   "metadata": {
    "ExecuteTime": {
     "end_time": "2020-06-28T12:42:40.540893Z",
     "start_time": "2020-06-28T12:42:40.304328Z"
    }
   },
   "outputs": [
    {
     "data": {
      "image/png": "[encoded data removed]",
      "text/plain": [
       "<Figure size 432x288 with 1 Axes>"
      ]
     },
     "metadata": {
      "needs_background": "light"
     },
     "output_type": "display_data"
    }
   ],
   "source": [
    "# Plot of f(x) = 5 - 2x, where x \\in [-2,0]\n",
    "t = np.arange(-2.0, 0.0, 0.01)\n",
    "s = 5 - 2*t\n",
    "line, = plt.plot(t, s, lw=2)\n",
    "\n",
    "plt.annotate('maximum', xy=(-2,9), xytext=(-1.5,8.9),\n",
    "             arrowprops=dict(facecolor='black', shrink=0.05))\n",
    "plt.annotate('minimum', xy=(0,5), xytext=(-0.75,5),\n",
    "             arrowprops=dict(facecolor='black', shrink=0.05))\n",
    "\n",
    "plt.show()"
   ]
  },
  {
   "cell_type": "markdown",
   "metadata": {},
   "source": [
    "If we remove the restriction on $x$, the function $f$ never achieves its maximum value or its minimum value."
   ]
  },
  {
   "cell_type": "markdown",
   "metadata": {},
   "source": [
    "### Functions of Several Variables"
   ]
  },
  {
   "cell_type": "markdown",
   "metadata": {},
   "source": [
    "## Numerical Methods"
   ]
  },
  {
   "cell_type": "markdown",
   "metadata": {},
   "source": [
    "## References\n",
    "\n",
    "* Leithold, L. (1995). The Calculus 7 (7th ed.). New York: Harpercollins College Div."
   ]
  },
  {
   "cell_type": "code",
   "execution_count": null,
   "metadata": {},
   "outputs": [],
   "source": []
  }
 ],
 "metadata": {
  "kernelspec": {
   "display_name": "Python 3",
   "language": "python",
   "name": "python3"
  },
  "language_info": {
   "codemirror_mode": {
    "name": "ipython",
    "version": 3
   },
   "file_extension": ".py",
   "mimetype": "text/x-python",
   "name": "python",
   "nbconvert_exporter": "python",
   "pygments_lexer": "ipython3",
   "version": "3.7.3"
  },
  "latex_envs": {
   "LaTeX_envs_menu_present": true,
   "autoclose": false,
   "autocomplete": true,
   "bibliofile": "biblio.bib",
   "cite_by": "apalike",
   "current_citInitial": 1,
   "eqLabelWithNumbers": true,
   "eqNumInitial": 1,
   "hotkeys": {
    "equation": "Ctrl-E",
    "itemize": "Ctrl-I"
   },
   "labels_anchors": false,
   "latex_user_defs": false,
   "report_style_numbering": false,
   "user_envs_cfg": false
  },
  "toc": {
   "base_numbering": 1,
   "nav_menu": {},
   "number_sections": true,
   "sideBar": true,
   "skip_h1_title": true,
   "title_cell": "Table of Contents",
   "title_sidebar": "Contents",
   "toc_cell": true,
   "toc_position": {},
   "toc_section_display": true,
   "toc_window_display": true
  },
  "varInspector": {
   "cols": {
    "lenName": 16,
    "lenType": 16,
    "lenVar": 40
   },
   "kernels_config": {
    "python": {
     "delete_cmd_postfix": "",
     "delete_cmd_prefix": "del ",
     "library": "var_list.py",
     "varRefreshCmd": "print(var_dic_list())"
    },
    "r": {
     "delete_cmd_postfix": ") ",
     "delete_cmd_prefix": "rm(",
     "library": "var_list.r",
     "varRefreshCmd": "cat(var_dic_list()) "
    }
   },
   "types_to_exclude": [
    "module",
    "function",
    "builtin_function_or_method",
    "instance",
    "_Feature"
   ],
   "window_display": false
  }
 },
 "nbformat": 4,
 "nbformat_minor": 2
}

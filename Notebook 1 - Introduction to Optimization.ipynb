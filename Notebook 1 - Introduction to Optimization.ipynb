{
 "cells": [
  {
   "cell_type": "markdown",
   "metadata": {},
   "source": [
    "# Introduction to Optimization\n",
    "by **Ma. Cristina Bargo, Ph.D.**"
   ]
  },
  {
   "cell_type": "code",
   "execution_count": 2,
   "metadata": {
    "ExecuteTime": {
     "end_time": "2020-06-28T12:38:02.648923Z",
     "start_time": "2020-06-28T12:38:02.644892Z"
    }
   },
   "outputs": [],
   "source": [
    "import numpy as np\n",
    "import matplotlib.pyplot as plt"
   ]
  },
  {
   "cell_type": "markdown",
   "metadata": {
    "toc": true
   },
   "source": [
    "<h1>Table of Contents<span class=\"tocSkip\"></span></h1>\n",
    "<div class=\"toc\"><ul class=\"toc-item\"><li><span><a href=\"#Introduction\" data-toc-modified-id=\"Introduction-1\"><span class=\"toc-item-num\">1&nbsp;&nbsp;</span>Introduction</a></span></li><li><span><a href=\"#Analytical-Methods\" data-toc-modified-id=\"Analytical-Methods-2\"><span class=\"toc-item-num\">2&nbsp;&nbsp;</span>Analytical Methods</a></span><ul class=\"toc-item\"><li><span><a href=\"#Functions-of-One-Variable\" data-toc-modified-id=\"Functions-of-One-Variable-2.1\"><span class=\"toc-item-num\">2.1&nbsp;&nbsp;</span>Functions of One Variable</a></span><ul class=\"toc-item\"><li><span><a href=\"#Example\" data-toc-modified-id=\"Example-2.1.1\"><span class=\"toc-item-num\">2.1.1&nbsp;&nbsp;</span>Example</a></span></li><li><span><a href=\"#Example\" data-toc-modified-id=\"Example-2.1.2\"><span class=\"toc-item-num\">2.1.2&nbsp;&nbsp;</span>Example</a></span></li><li><span><a href=\"#Example\" data-toc-modified-id=\"Example-2.1.3\"><span class=\"toc-item-num\">2.1.3&nbsp;&nbsp;</span>Example</a></span></li></ul></li><li><span><a href=\"#Functions-of-Two-Variables\" data-toc-modified-id=\"Functions-of-Two-Variables-2.2\"><span class=\"toc-item-num\">2.2&nbsp;&nbsp;</span>Functions of Two Variables</a></span><ul class=\"toc-item\"><li><span><a href=\"#Example\" data-toc-modified-id=\"Example-2.2.1\"><span class=\"toc-item-num\">2.2.1&nbsp;&nbsp;</span>Example</a></span></li></ul></li><li><span><a href=\"#Remarks\" data-toc-modified-id=\"Remarks-2.3\"><span class=\"toc-item-num\">2.3&nbsp;&nbsp;</span>Remarks</a></span></li></ul></li><li><span><a href=\"#Overview-of-Numerical-Methods\" data-toc-modified-id=\"Overview-of-Numerical-Methods-3\"><span class=\"toc-item-num\">3&nbsp;&nbsp;</span>Overview of Numerical Methods</a></span></li><li><span><a href=\"#References\" data-toc-modified-id=\"References-4\"><span class=\"toc-item-num\">4&nbsp;&nbsp;</span>References</a></span></li></ul></div>"
   ]
  },
  {
   "cell_type": "markdown",
   "metadata": {},
   "source": [
    "## Introduction\n",
    "\n",
    "Optimization (in the mathematical context) involves finding the minimum or the maximum of a certain function. We normally use the word *extremum* (pl. *extrema*) to refer to either a minimum or a maximum of a function."
   ]
  },
  {
   "cell_type": "markdown",
   "metadata": {},
   "source": [
    "## Analytical Methods\n",
    "\n",
    "For the simplest cases, one can find the extrema manually, either by inspecting the graph of the function or by solving it analytically. This requires the knowledge of the derivatives of functions."
   ]
  },
  {
   "cell_type": "markdown",
   "metadata": {},
   "source": [
    "### Functions of One Variable\n",
    "\n",
    "Suppose we want to find the minimum or the maximum value of the function $f(x)$. Without any restrictions on the value of $x$, this may or may not exist. Under certain conditions on the function $f(x)$, we can find the minimum and/or the maximum value of the function $f$. Refer to any calculus textbook, e.g. Leithold (1995), for a discussion on the existence of minimum or maximum of a function.\n",
    "\n",
    "If function $f(x)$ is continuous on the interval $[a,b]$ (where $a$ and $b$ are real numbers), then the function $f(x)$ has both a minimum value and a maximum value on $[a,b]$. The following possibilities can occur:\n",
    "* The minimum happens at some value $c$ between $a$ and $b$, where either:\n",
    "    * $f^\\prime (c) = 0$, or\n",
    "    * $f^\\prime(c)$ does not exist.\n",
    "* The minimum or the maximum happens at $x=a$.\n",
    "* The minimum or the maximum happens at $x=b$."
   ]
  },
  {
   "cell_type": "markdown",
   "metadata": {},
   "source": [
    "#### Example\n",
    "\n",
    "<center>$f(x) = 5 - 2x$, where $x \\in [-2,0]$</center>\n",
    "\n",
    "Note that $f^\\prime (x) = -2$, which is never equal to $0$ for any $x$. Hence, the minimum and maximum cannot be found in the interval $(-2,0)$. We can check the endpoints though.\n",
    "* $f(-2) = 9$, which means we achieve the maximum value of the function $f$ at $x=-2$.\n",
    "* $f(0) = 5$, which means we achieve the minimum value of the function $f$ at $x=0$.\n",
    "\n",
    "Take note of the plot of the function $f$ in the cell below. This shows that we indeed get the minimum value of $f$ at $x=0$ and the maximum value at $x=-2$."
   ]
  },
  {
   "cell_type": "code",
   "execution_count": 52,
   "metadata": {
    "ExecuteTime": {
     "end_time": "2020-06-28T19:43:41.205817Z",
     "start_time": "2020-06-28T19:43:41.008655Z"
    }
   },
   "outputs": [
    {
     "data": {
      "image/png": "[encoded data removed]",
      "text/plain": [
       "<Figure size 432x288 with 1 Axes>"
      ]
     },
     "metadata": {
      "needs_background": "light"
     },
     "output_type": "display_data"
    }
   ],
   "source": [
    "# Plot of f(x) = 5 - 2x, where x \\in [-2,0]\n",
    "t = np.arange(-2.0, 0.0, 0.01)\n",
    "s = 5 - 2*t\n",
    "line, = plt.plot(t, s, lw=2)\n",
    "\n",
    "plt.annotate('maximum', xy=(-2,9), xytext=(-1.5,9.5),\n",
    "             arrowprops=dict(facecolor='black', width=1, headwidth=5,\n",
    "                             headlength=5, shrink=0.05))\n",
    "plt.annotate('minimum', xy=(0,5), xytext=(-0.75,4.5),\n",
    "             arrowprops=dict(facecolor='black', width=1, headwidth=5,\n",
    "                             headlength=5, shrink=0.05))\n",
    "\n",
    "plt.ylim(4,10)\n",
    "plt.show()"
   ]
  },
  {
   "cell_type": "markdown",
   "metadata": {},
   "source": [
    "If we remove the restriction on $x$, the function $f$ never achieves its maximum value or its minimum value. The graph of the function is a line that extends in both directions, so the value of $f(x)$ will keep on increasing as we go to the left and keep on decreasing as we go to the right."
   ]
  },
  {
   "cell_type": "markdown",
   "metadata": {},
   "source": [
    "#### Example\n",
    "\n",
    "<center>$g(x) = x^3 - 2x^2 + x - 1$, where $x \\in [0,2]$</center>\n",
    "\n",
    "Note that $g^\\prime (x) = 3x^2 - 4x + 1 = (3x-1)(x-1)$, and we get $g^\\prime (x) = 0$ when either $x=\\frac{1}{3}$ or $x=1$. We might get the minimum or the maximum value of $g$ at these values. We also compare the values of $g$ at $x=0$ and at $x=2$.\n",
    "* $g(0) = -1$\n",
    "* $g\\left( \\frac{1}{3} \\right) = -\\frac{23}{27}$\n",
    "* $g(1) = -1$\n",
    "* $g(2) = 1$\n",
    "\n",
    "This indicates that we achieve the minimum value of $g$ when $x=0$ and $x=1$. We achieve the maximum value of $g$ when $x=2$. This example shows that it is possible to achieve the minimum and/or the maximum value of the function at multiple locations.\n",
    "\n",
    "We again plot the function $g$ in the cell below to show the locations of the minimum and the maximum valuus of $g$."
   ]
  },
  {
   "cell_type": "code",
   "execution_count": 53,
   "metadata": {
    "ExecuteTime": {
     "end_time": "2020-06-28T19:43:57.253814Z",
     "start_time": "2020-06-28T19:43:57.021713Z"
    }
   },
   "outputs": [
    {
     "data": {
      "image/png": "[encoded data removed]",
      "text/plain": [
       "<Figure size 432x288 with 1 Axes>"
      ]
     },
     "metadata": {
      "needs_background": "light"
     },
     "output_type": "display_data"
    }
   ],
   "source": [
    "# Plot of g(x) = x^3 - 2x^2 + x - 1, where x \\in [0,2]\n",
    "t = np.arange(0.0, 2.0, 0.01)\n",
    "s = t**3 -2*t**2 + t - 1\n",
    "line, = plt.plot(t, s, lw=2)\n",
    "\n",
    "plt.annotate('minimum', xy=(0,-1), xytext=(0.25,-1.5),\n",
    "             arrowprops=dict(facecolor='black', width=1, headwidth=5,\n",
    "                             headlength=5, shrink=0.05))\n",
    "plt.annotate('minimum', xy=(1,-1), xytext=(1.25,-1.5),\n",
    "             arrowprops=dict(facecolor='black', width=1, headwidth=5,\n",
    "                             headlength=5, shrink=0.05))\n",
    "plt.annotate('maximum', xy=(2,1), xytext=(1.5,1.5),\n",
    "             arrowprops=dict(facecolor='black', width=1, headwidth=5,\n",
    "                             headlength=5, shrink=0.05))\n",
    "\n",
    "plt.ylim(-2,2)\n",
    "plt.show()"
   ]
  },
  {
   "cell_type": "markdown",
   "metadata": {},
   "source": [
    "Similar to the previous case, we will never get the maximum or the minimum value of the function $g$ when we remove the restrictions on the values of $x$. The value of $g(x)$ will continue to decrease as we go to the left and continue to increase as we go to the right."
   ]
  },
  {
   "cell_type": "markdown",
   "metadata": {},
   "source": [
    "#### Example\n",
    "\n",
    "<center>$h(x) = \\cos x$, where $x \\in [-\\frac{\\pi}{2},\\frac{\\pi}{2}]$</center>\n",
    "\n",
    "Note that $h^\\prime (x) = -\\sin x$, and we get $h^\\prime (x) = 0$ when $x = 0$. We compare the values of $h$ at $x=0$ as well as the endpoints $x=-\\frac{\\pi}{2}$ and $x=-\\frac{\\pi}{2}$.\n",
    "* $h\\left(-\\frac{\\pi}{2}\\right) = \\cos \\left(-\\frac{\\pi}{2}\\right) = 0$\n",
    "* $h(0) = \\cos 0 = 1$\n",
    "* $h\\left(-\\frac{\\pi}{2}\\right) = \\cos \\frac{\\pi}{2} = 0$\n",
    "\n",
    "We can see that we achieve the minimum value of $h$ when $x=-\\frac{\\pi}{2}$ and $x=\\frac{\\pi}{2}$. The maximum value is achieveed at $x=0$. We achieved the minimum value of the function $h$ at two locations.\n",
    "\n",
    "The cell below shows the graph of $h(x)$ and the locations of the extremum values."
   ]
  },
  {
   "cell_type": "code",
   "execution_count": 64,
   "metadata": {
    "ExecuteTime": {
     "end_time": "2020-06-30T21:01:17.732053Z",
     "start_time": "2020-06-30T21:01:17.530075Z"
    }
   },
   "outputs": [
    {
     "data": {
      "image/png": "[encoded data removed]",
      "text/plain": [
       "<Figure size 432x288 with 1 Axes>"
      ]
     },
     "metadata": {
      "needs_background": "light"
     },
     "output_type": "display_data"
    }
   ],
   "source": [
    "# Plot of h(x) = \\cos x, where x \\in [-pi/2,\\pi/2]\n",
    "t = np.arange(-0.5*np.pi, 0.5*np.pi, 0.01)\n",
    "s = np.cos(t)\n",
    "line, = plt.plot(t, s, lw=2)\n",
    "\n",
    "plt.annotate('minimum', xy=(-0.5*np.pi,0), xytext=(-0.5*np.pi+0.5,-0.5),\n",
    "             arrowprops=dict(facecolor='black', width=1, headwidth=5,\n",
    "                             headlength=5, shrink=0.05))\n",
    "plt.annotate('minimum', xy=(0.5*np.pi,0), xytext=(0.5*np.pi-1,-0.5),\n",
    "             arrowprops=dict(facecolor='black', width=1, headwidth=5,\n",
    "                             headlength=5, shrink=0.05))\n",
    "plt.annotate('maximum', xy=(0,1), xytext=(0.5,1.5),\n",
    "             arrowprops=dict(facecolor='black', width=1, headwidth=5,\n",
    "                             headlength=5, shrink=0.05))\n",
    "\n",
    "plt.ylim(-1,2)\n",
    "plt.show()"
   ]
  },
  {
   "cell_type": "markdown",
   "metadata": {},
   "source": [
    "Removing the restrictions on the values of $x$ will still give us the same minimum value of $-1$ and the same maximum value of $1$, due to the property that the values of $\\cos x$ lie between $-1$ and $1$. We achieve the maximum value when we reach the even multiples of $\\pi$ ($0, 2\\pi, 4\\pi, \\dots$). We achieve the minimum value when we reach the odd multiples of $\\pi$ ($\\pi, 3\\pi, 5\\pi,\\dots$)."
   ]
  },
  {
   "cell_type": "code",
   "execution_count": 60,
   "metadata": {
    "ExecuteTime": {
     "end_time": "2020-06-28T19:46:57.372985Z",
     "start_time": "2020-06-28T19:46:57.033399Z"
    }
   },
   "outputs": [
    {
     "data": {
      "image/png": "[encoded data removed]",
      "text/plain": [
       "<Figure size 432x288 with 1 Axes>"
      ]
     },
     "metadata": {
      "needs_background": "light"
     },
     "output_type": "display_data"
    }
   ],
   "source": [
    "# Plot of h(x) = \\cos x, where x \\in [-4\\pi,4\\pi]\n",
    "t = np.arange(-4*np.pi, 4*np.pi, 0.01)\n",
    "s = np.cos(t)\n",
    "line, = plt.plot(t, s, lw=2)\n",
    "\n",
    "plt.annotate('minima', xy=(-3*np.pi,-1), xytext=(-np.pi+1.5,-1.75),\n",
    "             arrowprops=dict(facecolor='black', width=1, headwidth=5,\n",
    "                             headlength=5, shrink=0.05))\n",
    "plt.annotate('minima', xy=(-np.pi,-1), xytext=(-np.pi+1.5,-1.75), alpha=0,\n",
    "             arrowprops=dict(facecolor='black', width=1, headwidth=5,\n",
    "                             headlength=5, shrink=0.05))\n",
    "plt.annotate('minima', xy=(np.pi,-1), xytext=(-np.pi+1.5,-1.75), alpha=0,\n",
    "             arrowprops=dict(facecolor='black', width=1, headwidth=5,\n",
    "                             headlength=5, shrink=0.05))\n",
    "plt.annotate('minima', xy=(3*np.pi,-1), xytext=(-np.pi+1.5,-1.75), alpha=0,\n",
    "             arrowprops=dict(facecolor='black', width=1, headwidth=5,\n",
    "                             headlength=5, shrink=0.05))\n",
    "plt.annotate('maxima', xy=(-4*np.pi,1), xytext=(-np.pi+1.2,1.75),\n",
    "             arrowprops=dict(facecolor='black', width=1, headwidth=5,\n",
    "                             headlength=5, shrink=0.05))\n",
    "plt.annotate('maxima', xy=(-2*np.pi,1), xytext=(-np.pi+1.2,1.75), alpha=0,\n",
    "             arrowprops=dict(facecolor='black', width=1, headwidth=5,\n",
    "                             headlength=5, shrink=0.05))\n",
    "plt.annotate('maxima', xy=(0,1), xytext=(-np.pi+1.2,1.75), alpha=0,\n",
    "             arrowprops=dict(facecolor='black', width=1, headwidth=5,\n",
    "                             headlength=5, shrink=0.05))\n",
    "plt.annotate('maxima', xy=(2*np.pi,1), xytext=(-np.pi+1.2,1.75), alpha=0,\n",
    "             arrowprops=dict(facecolor='black', width=1, headwidth=5,\n",
    "                             headlength=5, shrink=0.05))\n",
    "plt.annotate('maxima', xy=(4*np.pi,1), xytext=(-np.pi+1.2,1.75), alpha=0,\n",
    "             arrowprops=dict(facecolor='black', width=1, headwidth=5,\n",
    "                             headlength=5, shrink=0.05))\n",
    "\n",
    "plt.ylim(-2,2)\n",
    "plt.show()"
   ]
  },
  {
   "cell_type": "markdown",
   "metadata": {},
   "source": [
    "### Functions of Two Variables\n",
    "\n",
    "We now consider functions of the form $f(x,y)$ and find the minimum and maximum values of the function. Just like in the one-variable case, these may or may not exist. Certain conditions on the function $f$ allow us to get the minimum or the maximum value of the function.\n",
    "\n",
    "If $f$ is continuous on a closed and bounded set $D$, then we can guarantee the existence of the minimum and maximum value of the function $f$ when we restrict the points $(x,y) \\in D$. The following possibilities can occur:\n",
    "* The minimum or the maximum of the function $f$ occurs at an interior point $(a,b)$ of $D$, where:\n",
    "    * both $f_x(a,b)$ and $f_y(a,b)$ are equal to 0, or\n",
    "    * either $f_x(a,b)$ or $f_y(a,b)$ does not exist.\n",
    "* The minimum or the maximum of the function $f$ occurs at a boundary point of $D$.\n",
    "\n",
    "We call the possible locations of the minimum and maximum values as *critical points*. Those who are interested in the proof of this result can consult standard real analysis books, e.g. Bartle & Sherbert (2011).\n",
    "\n",
    "We discuss examples on how to find the critical points in the next sections. The solutions to each example will follow this general flow:\n",
    "1. Find critical points in the interior of $D$.\n",
    "2. Find critical points in the boundary of $D$.\n",
    "3. Compare the function values of the critical points. The largest value is the maximum value of the function $f$, while the smallest is the minimum value of the function $f$."
   ]
  },
  {
   "cell_type": "markdown",
   "metadata": {},
   "source": [
    "#### Example\n",
    "\n",
    "<center>$f(x,y) = x^2 + y^2 - 4x - 2y + 7$, <br> where $(x,y)$ is in the triangular region bounded by the $x$-axis, the $y$-axis, and the line $x+y=5$</center>\n",
    "\n",
    "**Step 1:** We first find the possible extrema inside the triangular region. Note that $f_x(x,y) = 2x-4$ and $f_y(x,y) = 2y-2$. Both are 0 when $x=2$ and $y=1$. Hence, a possible extremum point is $(2,1)$.\n",
    "\n",
    "**Step 2** We now find the possible extrema at the boundary of our triangular region. The boundary is composed of three components: the $x$-axis ($y=0$), the $y$-axis ($x=0$) and the line $x+y=5$.\n",
    "\n",
    "Looking at the boundary on the $x$-axis, we can simplify the expression $f(x,y)$ by replacing $y=0$. Hence, $$f(x,0) = x^2 + 0^2 - 4x - 2(0) + 7 = x^2 - 4x + 7$$"
   ]
  },
  {
   "cell_type": "markdown",
   "metadata": {},
   "source": [
    "### Remarks\n",
    "\n",
    "As the number of variables increase, it becomes more tedious (sometimes impossible) to find the minimum and maximum values analytically. In these scenarios, we rely on numerical techniques in finding the extrema of our functions. We discuss an overview of these numerical techniques in the next section."
   ]
  },
  {
   "cell_type": "markdown",
   "metadata": {},
   "source": [
    "## Overview of Numerical Methods"
   ]
  },
  {
   "cell_type": "markdown",
   "metadata": {},
   "source": [
    "## References\n",
    "\n",
    "* Bartle, R.G. and Sherbert, D.R. (2011). Introduction to Real Analysis (4th ed.). New Jersey: John Wiley & Sons, Inc.\n",
    "* Leithold, L. (1995). The Calculus 7 (7th ed.). New York: Harpercollins College Div."
   ]
  },
  {
   "cell_type": "code",
   "execution_count": null,
   "metadata": {},
   "outputs": [],
   "source": []
  }
 ],
 "metadata": {
  "kernelspec": {
   "display_name": "Python 3",
   "language": "python",
   "name": "python3"
  },
  "language_info": {
   "codemirror_mode": {
    "name": "ipython",
    "version": 3
   },
   "file_extension": ".py",
   "mimetype": "text/x-python",
   "name": "python",
   "nbconvert_exporter": "python",
   "pygments_lexer": "ipython3",
   "version": "3.7.3"
  },
  "latex_envs": {
   "LaTeX_envs_menu_present": true,
   "autoclose": false,
   "autocomplete": true,
   "bibliofile": "biblio.bib",
   "cite_by": "apalike",
   "current_citInitial": 1,
   "eqLabelWithNumbers": true,
   "eqNumInitial": 1,
   "hotkeys": {
    "equation": "Ctrl-E",
    "itemize": "Ctrl-I"
   },
   "labels_anchors": false,
   "latex_user_defs": false,
   "report_style_numbering": false,
   "user_envs_cfg": false
  },
  "toc": {
   "base_numbering": 1,
   "nav_menu": {},
   "number_sections": true,
   "sideBar": true,
   "skip_h1_title": true,
   "title_cell": "Table of Contents",
   "title_sidebar": "Contents",
   "toc_cell": true,
   "toc_position": {},
   "toc_section_display": true,
   "toc_window_display": true
  },
  "varInspector": {
   "cols": {
    "lenName": 16,
    "lenType": 16,
    "lenVar": 40
   },
   "kernels_config": {
    "python": {
     "delete_cmd_postfix": "",
     "delete_cmd_prefix": "del ",
     "library": "var_list.py",
     "varRefreshCmd": "print(var_dic_list())"
    },
    "r": {
     "delete_cmd_postfix": ") ",
     "delete_cmd_prefix": "rm(",
     "library": "var_list.r",
     "varRefreshCmd": "cat(var_dic_list()) "
    }
   },
   "types_to_exclude": [
    "module",
    "function",
    "builtin_function_or_method",
    "instance",
    "_Feature"
   ],
   "window_display": false
  }
 },
 "nbformat": 4,
 "nbformat_minor": 2
}
